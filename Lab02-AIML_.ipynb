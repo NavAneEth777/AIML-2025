{
  "cells": [
    {
      "cell_type": "markdown",
      "metadata": {
        "colab_type": "text",
        "id": "view-in-github"
      },
      "source": [
        "<a href=\"https://colab.research.google.com/github/kirankumareranki/AIML-2025/blob/main/Lab02-AIML.ipynb\" target=\"_parent\"><img src=\"https://colab.research.google.com/assets/colab-badge.svg\" alt=\"Open In Colab\"/></a>"
      ]
    },
    {
      "cell_type": "markdown",
      "id": "5a5a219b",
      "metadata": {
        "id": "5a5a219b"
      },
      "source": [
        "## Lab-02: Implement AI Search"
      ]
    },
    {
      "cell_type": "markdown",
      "id": "bc36d4cd",
      "metadata": {
        "id": "bc36d4cd"
      },
      "source": [
        "## Part-01:Implement Breadth First Search Algorithm\n",
        "![bfs1.png](attachment:bfs1.png)"
      ]
    },
    {
      "cell_type": "code",
      "execution_count": null,
      "id": "4e14d60d",
      "metadata": {
        "id": "4e14d60d"
      },
      "outputs": [],
      "source": [
        "import numpy as np\n"
      ]
    },
    {
      "cell_type": "code",
      "execution_count": null,
      "id": "ccda0729",
      "metadata": {
        "id": "ccda0729",
        "outputId": "5e6ff4f9-a004-4a7b-b3e0-13c82e744556"
      },
      "outputs": [
        {
          "name": "stdout",
          "output_type": "stream",
          "text": [
            "The adjacency List representing the graph is:\n",
            "{0: [1, 2, 3], 1: [0, 2], 2: [0, 1, 3, 5], 3: [0, 2, 4], 4: [3, 5, 7], 5: [4, 6, 7], 6: [5, 7], 7: [4, 5, 6], 8: []}\n"
          ]
        }
      ],
      "source": [
        "from queue import Queue\n",
        "\n",
        "graph = {0: [1,2,3], 1: [0, 2], 2: [0,1,3, 5],\n",
        "         3: [0, 2, 4], 4: [3,5,7], 5: [4,6,7],\n",
        "         6: [5,7],7:[4,5,6],8:[]}\n",
        "print(\"The adjacency List representing the graph is:\")\n",
        "print(graph)\n"
      ]
    },
    {
      "cell_type": "code",
      "execution_count": null,
      "id": "e0e0ce90",
      "metadata": {
        "id": "e0e0ce90",
        "outputId": "e7a71cf2-5a24-4186-a16d-408e1a13b820"
      },
      "outputs": [
        {
          "name": "stdout",
          "output_type": "stream",
          "text": [
            "BFS traversal of graph with source 0 is:\n",
            "0-->1-->2-->3-->5-->4-->6-->7-->"
          ]
        }
      ],
      "source": [
        "def bfs(graph, source):\n",
        "    Q = Queue()\n",
        "    visited_vertices = set()\n",
        "    Q.put(source)\n",
        "    visited_vertices.update({source})\n",
        "    while not Q.empty():\n",
        "        vertex = Q.get()\n",
        "        print(vertex, end=\"-->\")\n",
        "        for u in graph[vertex]:\n",
        "            if u not in visited_vertices:\n",
        "                Q.put(u)\n",
        "                visited_vertices.update({u})\n",
        "\n",
        "print(\"BFS traversal of graph with source 0 is:\")\n",
        "bfs(graph, 0)"
      ]
    },
    {
      "cell_type": "markdown",
      "id": "839708bf",
      "metadata": {
        "id": "839708bf"
      },
      "source": [
        "## Part-02: Implement Depth First Search Algorithm\n",
        "![dfs1.png](attachment:dfs1.png)"
      ]
    },
    {
      "cell_type": "code",
      "execution_count": null,
      "id": "595e8c5b",
      "metadata": {
        "id": "595e8c5b",
        "outputId": "9668156c-e749-46f4-fad8-b535f0c132dd"
      },
      "outputs": [
        {
          "name": "stdout",
          "output_type": "stream",
          "text": [
            "The adjacency List representing the graph is:\n",
            "{'A': ['C', 'D', 'G'], 'B': ['A'], 'C': ['A', 'D', 'F'], 'D': ['A', 'C', 'E', 'G', 'H'], 'E': ['D', 'F', 'H'], 'F': ['C', 'E'], 'G': ['A', 'D', 'H'], 'H': ['D', 'E', 'G']}\n"
          ]
        }
      ],
      "source": [
        "graph1 = {\n",
        "    'A' : ['C','D','G'],\n",
        "    'B' : ['A'],\n",
        "    'C' : ['A','D','F'],\n",
        "    'D' : ['A','C','E','G','H'],\n",
        "    'E' : ['D','F','H'],\n",
        "    'F' : ['C','E'],\n",
        "    'G' : ['A','D','H'],\n",
        "    'H' : ['D','E','G'],\n",
        "\n",
        "}\n",
        "print(\"The adjacency List representing the graph is:\")\n",
        "print(graph1)"
      ]
    },
    {
      "cell_type": "code",
      "execution_count": null,
      "id": "d0129407",
      "metadata": {
        "id": "d0129407",
        "outputId": "e420e696-7db7-4719-a7da-23e9ec78fbb5"
      },
      "outputs": [
        {
          "name": "stdout",
          "output_type": "stream",
          "text": [
            "['B', 'A', 'C', 'D', 'E', 'F', 'H', 'G']\n"
          ]
        }
      ],
      "source": [
        "def dfs(graph, node, visited):\n",
        "    if node not in visited:\n",
        "        visited.append(node)\n",
        "        for k in graph[node]:\n",
        "            dfs(graph,k, visited)\n",
        "    return visited\n",
        "\n",
        "visited = dfs(graph1,'B', [])\n",
        "print(visited)"
      ]
    }
  ],
  "metadata": {
    "colab": {
      "include_colab_link": true,
      "provenance": []
    },
    "kernelspec": {
      "display_name": "Python 3 (ipykernel)",
      "language": "python",
      "name": "python3"
    },
    "language_info": {
      "codemirror_mode": {
        "name": "ipython",
        "version": 3
      },
      "file_extension": ".py",
      "mimetype": "text/x-python",
      "name": "python",
      "nbconvert_exporter": "python",
      "pygments_lexer": "ipython3",
      "version": "3.9.15"
    }
  },
  "nbformat": 4,
  "nbformat_minor": 5
}
